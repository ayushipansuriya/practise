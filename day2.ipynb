{
 "cells": [
  {
   "cell_type": "code",
   "execution_count": 19,
   "id": "9f5216b3-38e7-4dcb-9d3c-f2bb626f6861",
   "metadata": {},
   "outputs": [
    {
     "name": "stdin",
     "output_type": "stream",
     "text": [
      "enter the number : aa\n"
     ]
    },
    {
     "name": "stdout",
     "output_type": "stream",
     "text": [
      "please Enter valid number\n",
      "finally execution is completed...\n"
     ]
    }
   ],
   "source": [
    "try:\n",
    "    x=int(input(\"enter the number :\"))\n",
    "    n=0\n",
    "    result=100/n\n",
    "\n",
    "except ZeroDivisionError:\n",
    "    print(\"number doesn't divide by zero.\")\n",
    "\n",
    "except ValueError:\n",
    "    print(\"please Enter valid number\")\n",
    "\n",
    "else:\n",
    "    print(\"result is :\",result)\n",
    "\n",
    "finally:\n",
    "    print(\"finally execution is completed...\")"
   ]
  },
  {
   "cell_type": "code",
   "execution_count": 33,
   "id": "fed67792-1b8d-4c62-b3aa-ce7079cfa62a",
   "metadata": {},
   "outputs": [
    {
     "name": "stdout",
     "output_type": "stream",
     "text": [
      "Error: invalid literal for int() with base 10: 'ten'\n"
     ]
    }
   ],
   "source": [
    "try:\n",
    "    a=[\"ten\",12,30]\n",
    "    result=int(a[0])+ int(a[1])+int(a[4])\n",
    "\n",
    "except (ValueError,TypeError) as e:\n",
    "    print(\"Error:\",e)\n",
    "\n",
    "except IndexError:\n",
    "    print(\"Index out of range\")\n",
    "   \n"
   ]
  },
  {
   "cell_type": "code",
   "execution_count": 45,
   "id": "741ef194-c4e8-4f58-9f9a-320eddba1d10",
   "metadata": {},
   "outputs": [
    {
     "name": "stdout",
     "output_type": "stream",
     "text": [
      "Age can't be negative\n"
     ]
    }
   ],
   "source": [
    "def set(age):\n",
    "    if age<0:\n",
    "        raise ValueError(\"Age can't be negative\")\n",
    "    print(f\"Here,Age is {age}\")\n",
    "\n",
    "try:\n",
    "    set(-1)\n",
    "except ValueError as e:\n",
    "    print(e)"
   ]
  },
  {
   "cell_type": "code",
   "execution_count": 113,
   "id": "65ba36bd-a36a-44f5-b041-b15c6a7a2abd",
   "metadata": {},
   "outputs": [
    {
     "name": "stdout",
     "output_type": "stream",
     "text": [
      "105 -> Age must be between 0 and 100\n"
     ]
    }
   ],
   "source": [
    "class InvalidAgeError(Exception):\n",
    "    def __init__(self, age, msg=\"Age must be between 0 and 100\"):\n",
    "        self.age = age\n",
    "        self.msg = msg\n",
    "        super().__init__(self.msg)\n",
    "\n",
    "    def __str__(self):\n",
    "      return f'{self.age} -> {self.msg}'\n",
    "\n",
    "\n",
    "def set_age(age):\n",
    "    if age < 0 or age > 100:\n",
    "        raise InvalidAgeError(age)\n",
    "    else:\n",
    "        print(f\"Age set to: {age}\")\n",
    "\n",
    "\n",
    "try:\n",
    "    set_age(105)\n",
    "except InvalidAgeError as e:\n",
    "    print(e)"
   ]
  },
  {
   "cell_type": "code",
   "execution_count": 115,
   "id": "78c7612d-e556-4332-b008-048848072dde",
   "metadata": {},
   "outputs": [
    {
     "name": "stdout",
     "output_type": "stream",
     "text": [
      "Hii\n",
      "How Are You ?\n",
      "My name Is Ayushi Pansuriya.\n"
     ]
    }
   ],
   "source": [
    "f=open(\"demofile.txt\")\n",
    "print(f.read())"
   ]
  },
  {
   "cell_type": "code",
   "execution_count": 131,
   "id": "7e2f5e60-bcca-464a-ae48-a12d462021ce",
   "metadata": {},
   "outputs": [
    {
     "name": "stdout",
     "output_type": "stream",
     "text": [
      "A computer is an electronic device that processes data,\n",
      " performing calculations and tasks based on instructions. \n",
      "It's a versatile tool used in diverse fields, from education and business to healthcare and entertainment,\n",
      " transforming how we live and work\n"
     ]
    }
   ],
   "source": [
    "f=open(\"D://ayushi_python/file1.txt\")\n",
    "print(f.read())"
   ]
  },
  {
   "cell_type": "code",
   "execution_count": 135,
   "id": "3e2ac385-04b2-4dfb-be27-810278e1cace",
   "metadata": {},
   "outputs": [
    {
     "name": "stdout",
     "output_type": "stream",
     "text": [
      "Hii\n",
      "How Are You ?\n",
      "My name Is Ayushi Pansuriya.\n"
     ]
    }
   ],
   "source": [
    "with open(\"demofile.txt\")as f:\n",
    "   print(f.read())"
   ]
  },
  {
   "cell_type": "code",
   "execution_count": 137,
   "id": "7a7cae91-49f2-4468-94dd-347209e26dbd",
   "metadata": {},
   "outputs": [
    {
     "name": "stdout",
     "output_type": "stream",
     "text": [
      "Hii\n",
      "How Are You ?\n",
      "My name Is Ayushi Pansuriya.\n"
     ]
    }
   ],
   "source": [
    "f=open(\"demofile.txt\")\n",
    "print(f.read())\n",
    "f.close()"
   ]
  },
  {
   "cell_type": "code",
   "execution_count": 149,
   "id": "66f8e6c6-c0a2-4269-bac3-0267a2900150",
   "metadata": {},
   "outputs": [
    {
     "name": "stdout",
     "output_type": "stream",
     "text": [
      "Hii\n",
      "\n",
      "How Are You ?\n",
      "\n"
     ]
    }
   ],
   "source": [
    "f=open(\"demofile.txt\")\n",
    "print(f.readline())\n",
    "print(f.readline())\n",
    "f.close()"
   ]
  },
  {
   "cell_type": "code",
   "execution_count": 157,
   "id": "b98ad35d-20c8-4743-92de-c0e69000f212",
   "metadata": {},
   "outputs": [
    {
     "name": "stdout",
     "output_type": "stream",
     "text": [
      "Hii\n",
      "\n",
      "How Are You ?\n",
      "\n",
      "My name Is Ayushi Pansuriya.\n"
     ]
    }
   ],
   "source": [
    "with open(\"demofile.txt\")as f:\n",
    "   for x in f:\n",
    "       print(x)"
   ]
  },
  {
   "cell_type": "code",
   "execution_count": 159,
   "id": "c380ccf5-2eae-4570-8a11-821031540219",
   "metadata": {},
   "outputs": [
    {
     "name": "stdout",
     "output_type": "stream",
     "text": [
      "Hii\n",
      "How Are You ?\n",
      "My name Is Ayushi Pansuriya.what about you?\n"
     ]
    }
   ],
   "source": [
    "with open(\"demofile.txt\",\"a\")as f:\n",
    "    f.write(\"what about you?\")\n",
    "\n",
    "with open(\"demofile.txt\")as f:\n",
    "    print(f.read())"
   ]
  },
  {
   "cell_type": "code",
   "execution_count": 161,
   "id": "459a1e5c-74f1-4027-8d0a-39e9b852c061",
   "metadata": {},
   "outputs": [
    {
     "name": "stdout",
     "output_type": "stream",
     "text": [
      "aad dfdf dfgfg dfdfg gfdf\n"
     ]
    }
   ],
   "source": [
    "with open (\"D://ayushi_python/file1.txt\",\"w\") as f:\n",
    "    f.write(\"aad dfdf dfgfg dfdfg gfdf\")\n",
    "\n",
    "with open (\"D://ayushi_python/file1.txt\") as f:\n",
    "     print(f.read())"
   ]
  },
  {
   "cell_type": "code",
   "execution_count": 171,
   "id": "326baf26-c6ec-4617-81e7-5f615b0bbe48",
   "metadata": {},
   "outputs": [],
   "source": [
    "f=open(\"demofile2.txt\",\"x\")"
   ]
  },
  {
   "cell_type": "code",
   "execution_count": 173,
   "id": "75b5077d-dc0a-4752-8d85-eaa3ff520d0e",
   "metadata": {},
   "outputs": [],
   "source": [
    "import os\n",
    "os.remove(\"demofile1.txt\")"
   ]
  },
  {
   "cell_type": "code",
   "execution_count": 177,
   "id": "72feb2ad-1b3d-4fe2-8bd5-4e13b9032260",
   "metadata": {},
   "outputs": [
    {
     "name": "stdout",
     "output_type": "stream",
     "text": [
      "This file Doesn't exists\n"
     ]
    }
   ],
   "source": [
    "import os\n",
    "if os.path.exists(\"demofile3.txt\"):\n",
    "    os.remove(\"demofile3.txt\")\n",
    "else:\n",
    "    print(\"This file Doesn't exists\")"
   ]
  },
  {
   "cell_type": "code",
   "execution_count": 179,
   "id": "2d4b6fdd-0871-4e4b-9320-ed15816e6808",
   "metadata": {},
   "outputs": [],
   "source": [
    "import os\n",
    "os.rmdir(\"aaa\")"
   ]
  },
  {
   "cell_type": "code",
   "execution_count": 181,
   "id": "8547adf4-5986-4091-baa3-696d20cfc235",
   "metadata": {},
   "outputs": [
    {
     "name": "stdout",
     "output_type": "stream",
     "text": [
      "b'Hii\\r\\nHow Are You ?\\r\\nMy name Is Ayushi Pansuriya.what about you?'\n"
     ]
    }
   ],
   "source": [
    "f=open(\"demofile.txt\",\"rb\")\n",
    "print(f.read())"
   ]
  },
  {
   "cell_type": "code",
   "execution_count": 185,
   "id": "572b2ffa-605f-498b-a799-1e072fa224d4",
   "metadata": {},
   "outputs": [
    {
     "name": "stdout",
     "output_type": "stream",
     "text": [
      "This file doesn't exiest\n"
     ]
    }
   ],
   "source": [
    "#handleing exception in file handling\n",
    "try:\n",
    "    with open(\"demofile3.txt\") as f:\n",
    "        print(f.read(\"demofile3.txt\"))\n",
    "\n",
    "except:\n",
    "    print(\"This file doesn't exiest\")\n",
    "    f.close()"
   ]
  },
  {
   "cell_type": "code",
   "execution_count": 201,
   "id": "f69d422a-da69-4ed9-9ae0-26e1b30531a2",
   "metadata": {},
   "outputs": [
    {
     "name": "stdout",
     "output_type": "stream",
     "text": [
      "{'name': 'pen', 'price': '10', 'color': 'balck'}\n",
      "{'name': 'pencil', 'price': '23', 'color': 'blue'}\n",
      "{'name': 'beg', 'price': '5', 'color': 'red'}\n"
     ]
    }
   ],
   "source": [
    "import json\n",
    "with open(\"demo.json\",\"r\") as f:\n",
    "    data=json.load(f)\n",
    "    for i in data[\"product\"]:\n",
    "        print(i)"
   ]
  },
  {
   "cell_type": "code",
   "execution_count": 207,
   "id": "146da77e-6920-423a-bd75-413344a5c9a7",
   "metadata": {},
   "outputs": [
    {
     "name": "stdout",
     "output_type": "stream",
     "text": [
      "{'name': 'pen', 'price': '10', 'color': 'balck'}\n",
      "{'name': 'pencil', 'price': '23', 'color': 'blue'}\n",
      "{'name': 'beg', 'price': '5', 'color': 'red'}\n",
      "{'name': 'bottle', 'price': 200, 'color': 'pink'}\n"
     ]
    }
   ],
   "source": [
    "import json\n",
    "def write_json(new_data, file_name=\"demo.json\"):\n",
    "    with open(file_name,\"r+\")as f:\n",
    "        file_data=json.load(f)\n",
    "        \n",
    "        file_data['product'].append(new_data)\n",
    "        \n",
    "        for x in file_data['product']:\n",
    "            print(x)\n",
    "       \n",
    "\n",
    "new_product={'name':'bottle','price':200,'color':'pink'}\n",
    "write_json(new_product)"
   ]
  },
  {
   "cell_type": "code",
   "execution_count": 229,
   "id": "d1b97849-d099-415b-b2f9-daa018b94f97",
   "metadata": {},
   "outputs": [],
   "source": [
    "import json\n",
    "dict={\n",
    "    \"name\":\"aaaaa\",\n",
    "    \"rno\":12,\n",
    "    \"rank\":3\n",
    "}\n",
    "with open (\"demo1.json\",'w') as f:\n",
    "    json.dump(dict,f,indent=8)\n",
    "   \n",
    "    "
   ]
  },
  {
   "cell_type": "code",
   "execution_count": 259,
   "id": "a4e79e18-091b-43cc-9b63-dffcbb57ca2c",
   "metadata": {},
   "outputs": [
    {
     "name": "stdout",
     "output_type": "stream",
     "text": [
      "['Name,   Age, Profession']\n",
      "['Jack,   23,  Doctor']\n",
      "['Miller, 22,  Engineer']\n",
      "['john,   24,  Teacher']\n"
     ]
    }
   ],
   "source": [
    "import csv\n",
    "with open(\"myfile.csv\",\"r\")as f:\n",
    "    data=csv.reader(f,skipinitialspace=True,delimiter='\\t')\n",
    "    for x in data:\n",
    "        print(x)"
   ]
  },
  {
   "cell_type": "code",
   "execution_count": 253,
   "id": "006267fa-2d4f-4adc-a496-3869787e0249",
   "metadata": {},
   "outputs": [
    {
     "name": "stdout",
     "output_type": "stream",
     "text": [
      "['ID', 'Name', 'Email']\n",
      "['A878', 'Alfonso K. Hamby', 'alfonsokhamby@rhyta.com']\n",
      "['F854', 'Susanne Briard', 'susannebriard@armyspy.com']\n",
      "['E833', 'Katja Mauer', 'kmauer@jadoop.com']\n"
     ]
    }
   ],
   "source": [
    "import csv\n",
    "csv.register_dialect('mydialect',\n",
    "                    delimiter='|',\n",
    "                    skipinitialspace=True,\n",
    "                    quoting=csv.QUOTE_ALL)\n",
    "with open(\"myfile1.csv\",'r')as f:\n",
    "    data=csv.reader(f,dialect='mydialect')\n",
    "    for x in data:\n",
    "        print(x)"
   ]
  },
  {
   "cell_type": "code",
   "execution_count": 279,
   "id": "b94616b1-e537-425d-a854-010a7f3a1ee5",
   "metadata": {},
   "outputs": [],
   "source": [
    "import csv\n",
    "fieldnames=['no','age','city']\n",
    "data=[{'no':1,'age':22,\"city\":\"surat\"},{'no':3,'age':20,\"city\":\"bharuch\"},{'no':3,'age':12,\"city\":\"surat\"}]\n",
    "with open(\"myfile2.csv\",\"w\",newline='') as f:\n",
    "    result=csv.DictWriter(f,fieldnames=fieldnames)\n",
    "    result.writeheader()\n",
    "    result.writerows(data)\n",
    "    "
   ]
  },
  {
   "cell_type": "code",
   "execution_count": 283,
   "id": "40e77143-011d-49d7-8dd2-9ee8a09671b1",
   "metadata": {},
   "outputs": [
    {
     "name": "stdout",
     "output_type": "stream",
     "text": [
      "{'no': '1', 'age': '22', 'city': 'surat'}\n",
      "{'no': '3', 'age': '20', 'city': 'bharuch'}\n",
      "{'no': '3', 'age': '12', 'city': 'surat'}\n"
     ]
    }
   ],
   "source": [
    "import csv\n",
    "with open(\"myfile2.csv\",\"r\")as f:\n",
    "    data=csv.DictReader(f)\n",
    "    for x in data:\n",
    "        print(x)"
   ]
  },
  {
   "cell_type": "code",
   "execution_count": 348,
   "id": "5ca43ce0-1c2f-4da2-b67b-0a5cf35b2884",
   "metadata": {},
   "outputs": [
    {
     "name": "stdout",
     "output_type": "stream",
     "text": [
      "invalid name!\n"
     ]
    }
   ],
   "source": [
    "import logging\n",
    "logging.basicConfig(filename=\"l1.log\",level=logging.DEBUG,format='%(asctime)s - %(levelname)s - %(message)s')\n",
    "\n",
    "def nameCheck(name):\n",
    "    if len(name)<2:\n",
    "        logging.debug(\"checking for length..\")\n",
    "        return 'invalid name!'\n",
    "    elif name.isspace():\n",
    "        logging.debug(\"checking if name contain space....\")\n",
    "        return 'invalid name!'\n",
    "    elif name.isalpha():\n",
    "        logging.debug(\"checking if name contain alphabat....\")\n",
    "        return 'invalid name!'\n",
    "    else:\n",
    "        logging.debug(\"falled all check...\")\n",
    "        return 'invalid name!'\n",
    "\n",
    "print(nameCheck('12'))"
   ]
  },
  {
   "cell_type": "code",
   "execution_count": 362,
   "id": "f19b6314-597c-4fb6-b1b3-6e34088e4bd1",
   "metadata": {},
   "outputs": [],
   "source": [
    "import logging\n",
    "logging.basicConfig(filename='l1.log',level=logging.ERROR,format='%(asctime)s - %(levelname)s - %(message)s')\n",
    "\n",
    "logging.debug(\"This is Debug Message!\")\n",
    "logging.info(\"This is Info Message!\")\n",
    "logging.warning(\"This is Warning Message!\")\n",
    "logging.error(\"This is  Error Message!\")\n",
    "logging.critical(\"This is Critical Message!\")"
   ]
  },
  {
   "cell_type": "code",
   "execution_count": 356,
   "id": "a0153228-b377-499c-942e-68e82739faae",
   "metadata": {},
   "outputs": [],
   "source": [
    "import logging\n",
    "\n",
    "# Configure basic logging to console\n",
    "logging.basicConfig(level=logging.INFO, format='%(asctime)s - %(levelname)s - %(message)s')\n",
    "\n",
    "# Get a logger instance\n",
    "logger = logging.getLogger(__name__)\n",
    "\n",
    "# Log messages at different levels\n",
    "logger.debug(\"This is a debug message.\")\n",
    "logger.info(\"This is an info message.\")\n",
    "logger.warning(\"This is a warning message.\")\n",
    "logger.error(\"This is an error message.\")\n",
    "logger.critical(\"This is a critical message.\")"
   ]
  },
  {
   "cell_type": "code",
   "execution_count": 414,
   "id": "5e640b32-0c7e-491f-98db-71cefa4a2e66",
   "metadata": {},
   "outputs": [
    {
     "name": "stdout",
     "output_type": "stream",
     "text": [
      "Befor function call\n",
      "hello World!\n",
      "After function call\n"
     ]
    }
   ],
   "source": [
    "#simple function decorator\n",
    "def decorator(fun):\n",
    "    \n",
    "    def wrapper():\n",
    "        print(\"Befor function call\")\n",
    "        fun()\n",
    "        print(\"After function call\")\n",
    "    return wrapper\n",
    "\n",
    "@decorator\n",
    "def greet():\n",
    "    print(\"hello World!\")\n",
    "\n",
    "greet()"
   ]
  },
  {
   "cell_type": "code",
   "execution_count": 390,
   "id": "03584396-43f9-4a72-9a52-a9dbbc0c401c",
   "metadata": {},
   "outputs": [
    {
     "name": "stdout",
     "output_type": "stream",
     "text": [
      "49\n"
     ]
    }
   ],
   "source": [
    "#higher order function\n",
    "\n",
    "def fun(x,f):\n",
    "    return f(x)\n",
    "\n",
    "def square(x):\n",
    "    return x*x\n",
    "\n",
    "result=fun(7,square)\n",
    "print(result)"
   ]
  },
  {
   "cell_type": "code",
   "execution_count": 412,
   "id": "ef6631b7-869c-42f6-821b-65ead805ef8d",
   "metadata": {},
   "outputs": [
    {
     "name": "stdout",
     "output_type": "stream",
     "text": [
      "Hello, john!\n",
      "Hello, boby!\n",
      "28\n"
     ]
    }
   ],
   "source": [
    "def fun(n):\n",
    "    return f\"Hello, {n}!\"\n",
    "\n",
    "greet=fun\n",
    "print(greet(\"john\"))\n",
    "\n",
    "\n",
    "def demo(x,y):\n",
    "    return x(y)\n",
    "\n",
    "result=demo(greet,\"boby\")\n",
    "print(result)\n",
    "\n",
    "def multiplication(p):\n",
    "    def mul(q):\n",
    "       return p*q\n",
    "    return mul\n",
    "\n",
    "res=multiplication(4)\n",
    "print(res(7))"
   ]
  },
  {
   "cell_type": "code",
   "execution_count": 420,
   "id": "5beb6107-8702-4db0-bed5-6259d6f04d74",
   "metadata": {},
   "outputs": [
    {
     "name": "stdout",
     "output_type": "stream",
     "text": [
      "before call\n",
      "Hello!\n",
      "after call\n"
     ]
    }
   ],
   "source": [
    "def method_decorator(fun):\n",
    "    def wrapper(self):\n",
    "        print(\"before call\")\n",
    "        res=fun(self)\n",
    "        print(\"after call\")\n",
    "        return res\n",
    "    return wrapper\n",
    "\n",
    "class method:\n",
    "    @method_decorator\n",
    "    def greet(self):\n",
    "        print(\"Hello!\")\n",
    "\n",
    "m1=method()\n",
    "m1.greet()"
   ]
  },
  {
   "cell_type": "code",
   "execution_count": 435,
   "id": "944f58c1-36f2-4025-a1d3-2da990400e3b",
   "metadata": {},
   "outputs": [
    {
     "name": "stdout",
     "output_type": "stream",
     "text": [
      "Wel come to the class\n",
      "Book\n"
     ]
    }
   ],
   "source": [
    "def fun(clls):\n",
    "    clls.class_name = clls.__name__\n",
    "    return clls\n",
    "\n",
    "@fun\n",
    "class Book:\n",
    "    print(f\"Wel come to the class\")\n",
    "\n",
    "print(Book.class_name)"
   ]
  },
  {
   "cell_type": "code",
   "execution_count": 469,
   "id": "d81d1dc1-fd1f-419c-87ee-ee4bd6c537b4",
   "metadata": {},
   "outputs": [
    {
     "name": "stdout",
     "output_type": "stream",
     "text": [
      "7\n"
     ]
    }
   ],
   "source": [
    "class maths:\n",
    "   @staticmethod\n",
    "   def add(x,y):\n",
    "        return x+y\n",
    "\n",
    "\n",
    "res=maths.add(3,4)\n",
    "print(res)"
   ]
  },
  {
   "cell_type": "code",
   "execution_count": 481,
   "id": "a2f1038c-424b-499e-a092-efb9846b2779",
   "metadata": {},
   "outputs": [
    {
     "name": "stdout",
     "output_type": "stream",
     "text": [
      "1.21\n"
     ]
    }
   ],
   "source": [
    "class Emp:\n",
    "    raise_amount=1.09\n",
    "\n",
    "    @classmethod\n",
    "    def set_raise_amount(cls,amount):\n",
    "         cls.raise_amount=amount\n",
    "Emp.set_raise_amount(1.21)\n",
    "print(Emp.raise_amount)"
   ]
  },
  {
   "cell_type": "code",
   "execution_count": 499,
   "id": "971446c3-a21d-484f-89aa-9742ff102d0d",
   "metadata": {},
   "outputs": [
    {
     "name": "stdout",
     "output_type": "stream",
     "text": [
      "5\n",
      "78.5\n",
      "1519.76\n"
     ]
    }
   ],
   "source": [
    "class Circle:\n",
    "    def __init__(self,radius):\n",
    "        self._radius=radius\n",
    "\n",
    "    @property\n",
    "    def radius(self):\n",
    "        return self._radius\n",
    "\n",
    "    @radius.setter\n",
    "    def radius(self,value):\n",
    "        if value>=0:\n",
    "            self._radius=value\n",
    "        else:\n",
    "            raise ValueError(\"Value must be positive number..!\")\n",
    "\n",
    "    @property\n",
    "    def area(self):\n",
    "        return 3.14*(self._radius**2)\n",
    "c=Circle(5)\n",
    "print(c.radius)\n",
    "print(c.area)\n",
    "c.radius=22\n",
    "print(c.area)\n",
    "            \n",
    "        "
   ]
  },
  {
   "cell_type": "code",
   "execution_count": 505,
   "id": "28a90975-7eaf-455f-aa9e-9b313829874b",
   "metadata": {},
   "outputs": [
    {
     "name": "stdout",
     "output_type": "stream",
     "text": [
      "484\n",
      "200\n"
     ]
    }
   ],
   "source": [
    "def decor1(func): \n",
    "    def inner(): \n",
    "        x = func() \n",
    "        return x * x \n",
    "    return inner \n",
    "\n",
    "def decor2(func): \n",
    "    def inner(): \n",
    "        x = func() \n",
    "        return 2 * x \n",
    "    return inner \n",
    "\n",
    "@decor1\n",
    "@decor2\n",
    "def num(): \n",
    "    return 11\n",
    "\n",
    "@decor2\n",
    "@decor1\n",
    "def num2():\n",
    "    return 10\n",
    "  \n",
    "print(num()) \n",
    "print(num2())"
   ]
  },
  {
   "cell_type": "code",
   "execution_count": 513,
   "id": "4849898a-1f9f-47ec-9434-69196eb1528b",
   "metadata": {},
   "outputs": [
    {
     "name": "stdout",
     "output_type": "stream",
     "text": [
      "22\n"
     ]
    }
   ],
   "source": [
    "'''def decor1(func): \n",
    "    def inner(): \n",
    "        x = func() \n",
    "        return x * x \n",
    "    return inner''' \n",
    "\n",
    "def decor2(func): \n",
    "    def inner(): \n",
    "        x = func() \n",
    "        return 2 * x \n",
    "    return inner \n",
    "\n",
    "#@decor1\n",
    "@decor2\n",
    "def num(): \n",
    "    return 11\n",
    "print(num()) "
   ]
  },
  {
   "cell_type": "code",
   "execution_count": 41,
   "id": "1add82de-b11f-4246-ac5b-b3fe1b4fa5b9",
   "metadata": {},
   "outputs": [
    {
     "name": "stdout",
     "output_type": "stream",
     "text": [
      "Function 'long_time' executed in 0.0085s\n"
     ]
    }
   ],
   "source": [
    "#decorator with time function\n",
    "from time import time\n",
    "\n",
    "\n",
    "def timer_func(func):\n",
    "   \n",
    "    def wrap_func(*args):\n",
    "        t1 = time()\n",
    "        result = func(*args)\n",
    "        t2 = time()\n",
    "        print(f'Function {func.__name__!r} executed in {(t2-t1):.4f}s')\n",
    "        return result\n",
    "    return wrap_func\n",
    "\n",
    "\n",
    "@timer_func\n",
    "def long_time(n):\n",
    "    for i in range(n):\n",
    "        for j in range(100000):\n",
    "            i*j\n",
    "\n",
    "\n",
    "long_time(2)"
   ]
  },
  {
   "cell_type": "code",
   "execution_count": 35,
   "id": "3de1e2ee-ef8f-4956-9511-1803831c6165",
   "metadata": {},
   "outputs": [
    {
     "name": "stdout",
     "output_type": "stream",
     "text": [
      "Function calculate_something(10,) Took 0.0000 seconds\n",
      "Function calculate_something(100,) Took 0.0006 seconds\n",
      "Function calculate_something(1000,) Took 0.0817 seconds\n",
      "Function calculate_something(5000,) Took 1.4796 seconds\n",
      "Function calculate_something(10000,) Took 6.0543 seconds\n"
     ]
    },
    {
     "data": {
      "text/plain": [
       "4999999950000000"
      ]
     },
     "execution_count": 35,
     "metadata": {},
     "output_type": "execute_result"
    }
   ],
   "source": [
    "from functools import wraps\n",
    "import time\n",
    "\n",
    "\n",
    "def timeit(func):\n",
    "    @wraps(func)\n",
    "    def timeit_wrapper(*args):\n",
    "        start_time = time.perf_counter()\n",
    "        result = func(*args)\n",
    "        end_time = time.perf_counter()\n",
    "        total_time = end_time - start_time\n",
    "        print(f'Function {func.__name__}{args} Took {total_time:.4f} seconds')\n",
    "        return result\n",
    "    return timeit_wrapper\n",
    "\n",
    "\n",
    "@timeit\n",
    "def calculate_something(num):\n",
    "   \n",
    "    total = sum((x for x in range(0, num**2)))\n",
    "    return total\n",
    "\n",
    "\n",
    "calculate_something(10)\n",
    "calculate_something(100)\n",
    "calculate_something(1000)\n",
    "calculate_something(5000)\n",
    "calculate_something(10000)    "
   ]
  },
  {
   "cell_type": "markdown",
   "id": "dde54414-4ff0-4548-bf0d-94268e62a1ec",
   "metadata": {},
   "source": [
    "#day2 Task"
   ]
  },
  {
   "cell_type": "code",
   "execution_count": 166,
   "id": "15bc8aae-27d3-46d1-8837-62630fcdd5b5",
   "metadata": {},
   "outputs": [
    {
     "name": "stdout",
     "output_type": "stream",
     "text": [
      "json file is open\n",
      "Function 'open_file' executed in 0.0040s\n",
      "...Read File.....\n",
      "{'name': 'pen', 'price': '10', 'color': 'balck'}\n",
      "{'name': 'pencil', 'price': '23', 'color': 'blue'}\n",
      "{'name': 'beg', 'price': '5', 'color': 'red'}\n",
      "Function 'read_file' executed in 0.0000s\n",
      "...Updated Data.....\n",
      "{'name': 'pen', 'price': '10', 'color': 'balck'}\n",
      "{'name': 'pencil', 'price': '23', 'color': 'blue'}\n",
      "{'name': 'beg', 'price': '5', 'color': 'red'}\n",
      "{'name': 'book', 'price': 57, 'color': 'grey'}\n",
      "Function 'append_file' executed in 0.0010s\n"
     ]
    }
   ],
   "source": [
    "import json\n",
    "import logging\n",
    "from time import time\n",
    "\n",
    "logging.basicConfig(filename='task.log',filemode='W',level=logging.INFO,format='%(asctime)s - %(levelname)s - %(message)s')\n",
    "class Myclass:\n",
    "\n",
    "    def timer_func(func):\n",
    "   \n",
    "      def wrap_func(*args):\n",
    "        t1 = time()\n",
    "        result = func(*args)\n",
    "        t2 = time()\n",
    "        print(f'Function {func.__name__!r} executed in {(t2-t1):.4f}s')\n",
    "        return result\n",
    "      return wrap_func\n",
    "    \n",
    "    #open json file\n",
    "    @timer_func\n",
    "    def open_file(self):\n",
    "      with open('demo.json')as f:\n",
    "        print(\"json file is open\")\n",
    "      logging.info(\"File is open\")\n",
    "      \n",
    "\n",
    "    #read json file\n",
    "    @timer_func\n",
    "    def read_file(self):\n",
    "      print(\"...Read File.....\")\n",
    "      with open('demo.json','r')as f:\n",
    "        data=json.load(f)\n",
    "        for i in data['product']:\n",
    "            print(i)\n",
    "       \n",
    "      logging.info(\"File is read\")\n",
    "\n",
    "    #append json file\n",
    "    @timer_func\n",
    "    def append_file(self,new_data):\n",
    "        print(\"...Updated Data.....\")\n",
    "        with open('demo.json','r+')as f:\n",
    "            data=json.load(f)\n",
    "            data['product'].append(new_data)\n",
    "            for i in data['product']:\n",
    "                print(i)\n",
    "            logging.info(\"File is append\")\n",
    "\n",
    "    \n",
    "       \n",
    "\n",
    "m1=Myclass()\n",
    "m1.open_file()\n",
    "m1.read_file()\n",
    "new_data={'name':'book','price':57,'color':'grey'}\n",
    "m1.append_file(new_data)"
   ]
  },
  {
   "cell_type": "code",
   "execution_count": null,
   "id": "088ddd8b-eaac-4db9-9a0b-727a06c153ab",
   "metadata": {},
   "outputs": [],
   "source": []
  }
 ],
 "metadata": {
  "kernelspec": {
   "display_name": "Python [conda env:base] *",
   "language": "python",
   "name": "conda-base-py"
  },
  "language_info": {
   "codemirror_mode": {
    "name": "ipython",
    "version": 3
   },
   "file_extension": ".py",
   "mimetype": "text/x-python",
   "name": "python",
   "nbconvert_exporter": "python",
   "pygments_lexer": "ipython3",
   "version": "3.12.7"
  }
 },
 "nbformat": 4,
 "nbformat_minor": 5
}
